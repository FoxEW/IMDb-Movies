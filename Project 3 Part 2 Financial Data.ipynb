{
 "cells": [
  {
   "attachments": {
    "c2dce9ea-752b-452c-bb35-b660f6f18f68.png": {
     "image/png": "[encoded data removed]"
    }
   },
   "cell_type": "markdown",
   "id": "6a68eb1e-6e2a-4185-9aca-3bb5a0ff42a2",
   "metadata": {},
   "source": [
    "![image.png](attachment:c2dce9ea-752b-452c-bb35-b660f6f18f68.png)"
   ]
  },
  {
   "attachments": {},
   "cell_type": "markdown",
   "id": "72a8e6b3-47f4-4d5c-ac18-955636a96267",
   "metadata": {},
   "source": [
    "# IMDb Movies: Analysis & Predictions"
   ]
  },
  {
   "cell_type": "markdown",
   "id": "c1c21c2f-17cb-4feb-bb1e-1ae180ae0290",
   "metadata": {},
   "source": [
    "## Business Problem:\n",
    "For this project, you have been hired to produce a MySQL database on Movies from a subset of IMDB's publicly available dataset. Ultimately, you will use this database to analyze what makes a movie successful and will provide recommendations to the stakeholder on how to make a successful movie."
   ]
  },
  {
   "cell_type": "markdown",
   "id": "cd13f202-8c88-4229-8a19-9340423fb8a0",
   "metadata": {},
   "source": [
    "### Source:  \n",
    "#### https://datasets.imdbws.com/ .gz"
   ]
  },
  {
   "cell_type": "markdown",
   "id": "052d9c66-b6d6-4e26-9027-a6e46aac668d",
   "metadata": {},
   "source": [
    "We will focus on the following data files: <br> \n",
    "**title.basics.tsv.gz** <br>\n",
    "**title.ratings.tsv.gz** <br>\n",
    "**title.akas.tsv.gz** <br>"
   ]
  },
  {
   "cell_type": "code",
   "execution_count": 1,
   "id": "b9160189-9acf-4576-b2e0-6d47f162227c",
   "metadata": {},
   "outputs": [],
   "source": [
    "# !pip install tmdbsimple"
   ]
  },
  {
   "cell_type": "markdown",
   "id": "8c85e306-ea52-4aec-8e50-84bda6e7beee",
   "metadata": {},
   "source": [
    "### Part 2: Financial Data    \n",
    "***\n",
    "#### Use an API to **extract box office revenue and profit data** to add to your IMDB data and **perform exploratory data analysis**.\n",
    "\n",
    "**Specifications - Financial Data**\r\n",
    "\r\n",
    "Your stakeholder would like you to extract and save the results for movies that meet all of the criteria established in part 1 of the project (You should already have a filtered dataframe saved from part one as a csv.gz file)\r\n",
    "\r\n",
    "As a proof-of-concept, they requested you perform a test extraction of movies that started in 2000 or 201\r\n",
    "\r\n",
    "Each year should be saved as a separate .csv.gz **file\r",
    "**\n",
    "\r\n",
    "Hint: Use the two custom functions from the lessons (Intro to TMDB API, and Efficient TMDB API r-  code!\r\n",
    "\r\n",
    "One function will add the certification (MPGG Rating) to m- ovie.info\r\n",
    "The other function will help you append/extend a JSON file with Python\r\n",
    "Confirm Your API Function works.\r\n",
    "\r\n",
    "In order to ensure your function for extracting movie data from TMDB is working, test your function on these 2 movie ids: tt0848228 (\"The Avengers\") and tt0332280 (\"The Notebook\"). Make sure that your function runs without error and that it returns the correct movie's data for boSve etrieved and saved the final results to 2 sepallowing questions."
   ]
  },
  {
   "cell_type": "markdown",
   "id": "81093055-246d-4674-a37f-b64d1ab31c55",
   "metadata": {},
   "source": [
    "- #### **Financial Data**\n",
    "> Your stakeholder wants you to extract the budget, revenue, and MPAA Rating (G/PG/PG-13/R), which is also called \"Certification\""
   ]
  },
  {
   "cell_type": "markdown",
   "id": "d47a18a2-62a6-4b8d-a449-f432d07a52ea",
   "metadata": {},
   "source": [
    "#### **1. Imports**"
   ]
  },
  {
   "cell_type": "code",
   "execution_count": 2,
   "id": "957d59c9-7085-4515-b43b-d4cef058db0d",
   "metadata": {},
   "outputs": [
    {
     "data": {
      "text/plain": [
       "['akas.csv.gz',\n",
       " 'final_tmdb_data_2001.csv.gz',\n",
       " 'final_tmdb_data_2002.csv.gz',\n",
       " 'ratings.csv.gz',\n",
       " 'title_basics.csv.gz',\n",
       " 'tmdb_api_results_2001.json',\n",
       " 'tmdb_api_results_2002.json']"
      ]
     },
     "execution_count": 2,
     "metadata": {},
     "output_type": "execute_result"
    }
   ],
   "source": [
    "import pandas as pd\n",
    "\n",
    "import os, time,json\n",
    "import tmdbsimple as tmdb \n",
    "from tqdm.notebook import tqdm_notebook\n",
    "\n",
    "import matplotlib.pyplot as plt\n",
    "\n",
    "FOLDER = \"Data/\"\n",
    "os.makedirs(FOLDER, exist_ok=True)\n",
    "os.listdir(FOLDER)"
   ]
  },
  {
   "cell_type": "markdown",
   "id": "16ef193a-9438-4957-aeb9-ee0fe287b470",
   "metadata": {},
   "source": [
    "- #### **Functions**"
   ]
  },
  {
   "cell_type": "code",
   "execution_count": 3,
   "id": "7a3f92fa-f7b9-4820-b3ce-cf364a31cc9e",
   "metadata": {},
   "outputs": [],
   "source": [
    "def get_movie_with_rating(movie_id):\n",
    "        movie = tmdb.Movies(movie_id)\n",
    "        info = movie.info()\n",
    "        \n",
    "        release = movie.releases()\n",
    "        for c in release['countries']:\n",
    "            if c['iso_3166_1'] == 'US':\n",
    "                info['certification'] = c['certification']\n",
    "\n",
    "        return info"
   ]
  },
  {
   "cell_type": "code",
   "execution_count": 4,
   "id": "d7ec43d1-9a86-41b8-a250-80580ac2a786",
   "metadata": {},
   "outputs": [],
   "source": [
    "def write_json(new_data, filename): \n",
    "    \"\"\"Appends a list of records (new_data) to a json file (filename). \n",
    "    Adapted from: https://www.geeksforgeeks.org/append-to-json-file-using-python/\"\"\"  \n",
    "    \n",
    "    with open(filename,'r+') as file:\n",
    "        # First we load existing data into a dict.\n",
    "        file_data = json.load(file)\n",
    "        ## Choose extend or append\n",
    "        if (type(new_data) == list) & (type(file_data) == list):\n",
    "            file_data.extend(new_data)\n",
    "        else:\n",
    "             file_data.append(new_data)\n",
    "        # Sets file's current position at offset.\n",
    "        file.seek(0)\n",
    "        # convert back to json.\n",
    "        json.dump(file_data, file)"
   ]
  },
  {
   "cell_type": "markdown",
   "id": "e131bd9d-205c-4c7e-8d72-f5198840790b",
   "metadata": {},
   "source": [
    "- #### **Using Your API Credentials**"
   ]
  },
  {
   "cell_type": "code",
   "execution_count": 5,
   "id": "e880427d-e8c4-40c6-b7ca-0096e542d2a2",
   "metadata": {},
   "outputs": [],
   "source": [
    "with open('/Users/Erfoxcroft/.secret/tmdb_api.json', 'r') as f:\n",
    "\n",
    "    login = json.load(f)\n",
    "\n",
    "tmdb.API_KEY =  login['api-key']"
   ]
  },
  {
   "cell_type": "markdown",
   "id": "6c32530e-9247-4058-a31c-dd2b2b5f31b6",
   "metadata": {},
   "source": [
    "- #### **Confirm Your API Function works**"
   ]
  },
  {
   "cell_type": "code",
   "execution_count": 6,
   "id": "acae8def-dc95-4981-bc9c-fb164a55abe6",
   "metadata": {},
   "outputs": [
    {
     "name": "stdout",
     "output_type": "stream",
     "text": [
      "- Number of successfull retrievals: 2\n",
      "- Number of errors: 0\n"
     ]
    }
   ],
   "source": [
    "# Testing our function by looping through a list of ids\n",
    "\n",
    "test_ids = [\"tt0848228\", \"tt0332280\"]  \n",
    "results = []\n",
    "errors = []\n",
    "for movie_id in test_ids:\n",
    "    \n",
    "    try:\n",
    "        movie_info = get_movie_with_rating(movie_id)\n",
    "        results.append(movie_info)\n",
    "        \n",
    "    except Exception as e: \n",
    "        errors.append([movie_id, e])\n",
    "    \n",
    "pd.DataFrame(results)\n",
    "pd.DataFrame(errors)\n",
    "\n",
    "print(f\"- Number of successfull retrievals: {len(results)}\")\n",
    "print(f\"- Number of errors: {len(errors)}\")"
   ]
  },
  {
   "cell_type": "markdown",
   "id": "6a1dc7f0-017e-44d3-867c-90bc8cac9c91",
   "metadata": {},
   "source": [
    "- #### **Load in the Title Basics data**"
   ]
  },
  {
   "cell_type": "code",
   "execution_count": 7,
   "id": "91a90b73-38ee-45ed-a992-48cc413a61dc",
   "metadata": {},
   "outputs": [],
   "source": [
    "# Load in the dataframe from project part 1 as basics:\n",
    "basics = pd.read_csv(f'{FOLDER}title_basics.csv.gz')"
   ]
  },
  {
   "cell_type": "code",
   "execution_count": 8,
   "id": "25979c5e-0f05-4d9f-a342-4404e66e7f68",
   "metadata": {},
   "outputs": [
    {
     "data": {
      "text/html": [
       "<div>\n",
       "<style scoped>\n",
       "    .dataframe tbody tr th:only-of-type {\n",
       "        vertical-align: middle;\n",
       "    }\n",
       "\n",
       "    .dataframe tbody tr th {\n",
       "        vertical-align: top;\n",
       "    }\n",
       "\n",
       "    .dataframe thead th {\n",
       "        text-align: right;\n",
       "    }\n",
       "</style>\n",
       "<table border=\"1\" class=\"dataframe\">\n",
       "  <thead>\n",
       "    <tr style=\"text-align: right;\">\n",
       "      <th></th>\n",
       "      <th>tconst</th>\n",
       "      <th>titleType</th>\n",
       "      <th>primaryTitle</th>\n",
       "      <th>originalTitle</th>\n",
       "      <th>isAdult</th>\n",
       "      <th>startYear</th>\n",
       "      <th>endYear</th>\n",
       "      <th>runtimeMinutes</th>\n",
       "      <th>genres</th>\n",
       "    </tr>\n",
       "  </thead>\n",
       "  <tbody>\n",
       "    <tr>\n",
       "      <th>0</th>\n",
       "      <td>tt0035423</td>\n",
       "      <td>movie</td>\n",
       "      <td>Kate &amp; Leopold</td>\n",
       "      <td>Kate &amp; Leopold</td>\n",
       "      <td>0</td>\n",
       "      <td>2001.0</td>\n",
       "      <td>NaN</td>\n",
       "      <td>118</td>\n",
       "      <td>Comedy,Fantasy,Romance</td>\n",
       "    </tr>\n",
       "    <tr>\n",
       "      <th>1</th>\n",
       "      <td>tt0062336</td>\n",
       "      <td>movie</td>\n",
       "      <td>The Tango of the Widower and Its Distorting Mi...</td>\n",
       "      <td>El tango del viudo y su espejo deformante</td>\n",
       "      <td>0</td>\n",
       "      <td>2020.0</td>\n",
       "      <td>NaN</td>\n",
       "      <td>70</td>\n",
       "      <td>Drama</td>\n",
       "    </tr>\n",
       "    <tr>\n",
       "      <th>2</th>\n",
       "      <td>tt0069049</td>\n",
       "      <td>movie</td>\n",
       "      <td>The Other Side of the Wind</td>\n",
       "      <td>The Other Side of the Wind</td>\n",
       "      <td>0</td>\n",
       "      <td>2018.0</td>\n",
       "      <td>NaN</td>\n",
       "      <td>122</td>\n",
       "      <td>Drama</td>\n",
       "    </tr>\n",
       "    <tr>\n",
       "      <th>3</th>\n",
       "      <td>tt0082328</td>\n",
       "      <td>movie</td>\n",
       "      <td>Embodiment of Evil</td>\n",
       "      <td>Encarnação do Demônio</td>\n",
       "      <td>0</td>\n",
       "      <td>2008.0</td>\n",
       "      <td>NaN</td>\n",
       "      <td>94</td>\n",
       "      <td>Horror</td>\n",
       "    </tr>\n",
       "    <tr>\n",
       "      <th>4</th>\n",
       "      <td>tt0088751</td>\n",
       "      <td>movie</td>\n",
       "      <td>The Naked Monster</td>\n",
       "      <td>The Naked Monster</td>\n",
       "      <td>0</td>\n",
       "      <td>2005.0</td>\n",
       "      <td>NaN</td>\n",
       "      <td>100</td>\n",
       "      <td>Comedy,Horror,Sci-Fi</td>\n",
       "    </tr>\n",
       "  </tbody>\n",
       "</table>\n",
       "</div>"
      ],
      "text/plain": [
       "      tconst titleType                                       primaryTitle  \\\n",
       "0  tt0035423     movie                                     Kate & Leopold   \n",
       "1  tt0062336     movie  The Tango of the Widower and Its Distorting Mi...   \n",
       "2  tt0069049     movie                         The Other Side of the Wind   \n",
       "3  tt0082328     movie                                 Embodiment of Evil   \n",
       "4  tt0088751     movie                                  The Naked Monster   \n",
       "\n",
       "                               originalTitle  isAdult  startYear  endYear  \\\n",
       "0                             Kate & Leopold        0     2001.0      NaN   \n",
       "1  El tango del viudo y su espejo deformante        0     2020.0      NaN   \n",
       "2                 The Other Side of the Wind        0     2018.0      NaN   \n",
       "3                      Encarnação do Demônio        0     2008.0      NaN   \n",
       "4                          The Naked Monster        0     2005.0      NaN   \n",
       "\n",
       "   runtimeMinutes                  genres  \n",
       "0             118  Comedy,Fantasy,Romance  \n",
       "1              70                   Drama  \n",
       "2             122                   Drama  \n",
       "3              94                  Horror  \n",
       "4             100    Comedy,Horror,Sci-Fi  "
      ]
     },
     "execution_count": 8,
     "metadata": {},
     "output_type": "execute_result"
    }
   ],
   "source": [
    "basics.head()"
   ]
  },
  {
   "cell_type": "markdown",
   "id": "e0ecaf69-7212-4c83-b16e-5bc2f42f0562",
   "metadata": {},
   "source": [
    "- #### **Create Required Lists for the Loop**"
   ]
  },
  {
   "cell_type": "code",
   "execution_count": 9,
   "id": "e1dd260c-10fd-49ac-b358-38eeea3c8007",
   "metadata": {},
   "outputs": [],
   "source": [
    "YEARS_TO_GET = [2001,2002]"
   ]
  },
  {
   "cell_type": "code",
   "execution_count": 10,
   "id": "7f79ebd8-abe7-4cab-bb18-614ed187539c",
   "metadata": {},
   "outputs": [
    {
     "data": {
      "application/vnd.jupyter.widget-view+json": {
       "model_id": "a2a33b5256744c818710f0f0fac59b39",
       "version_major": 2,
       "version_minor": 0
      },
      "text/plain": [
       "YEARS:   0%|          | 0/2 [00:00<?, ?it/s]"
      ]
     },
     "metadata": {},
     "output_type": "display_data"
    },
    {
     "data": {
      "application/vnd.jupyter.widget-view+json": {
       "model_id": "0365a38bc1054ed9817eabd8a3aaee13",
       "version_major": 2,
       "version_minor": 0
      },
      "text/plain": [
       "Movies from 2001:   0%|          | 0/1584 [00:00<?, ?it/s]"
      ]
     },
     "metadata": {},
     "output_type": "display_data"
    },
    {
     "data": {
      "application/vnd.jupyter.widget-view+json": {
       "model_id": "34007cd33bd94dae8c5003e1090c635e",
       "version_major": 2,
       "version_minor": 0
      },
      "text/plain": [
       "Movies from 2002:   0%|          | 0/1584 [00:00<?, ?it/s]"
      ]
     },
     "metadata": {},
     "output_type": "display_data"
    },
    {
     "name": "stdout",
     "output_type": "stream",
     "text": [
      "- Total errors: 503\n"
     ]
    }
   ],
   "source": [
    "# Organize output by year into separate .json files using an OUTER LOOP\n",
    "# Start of OUTER loop\n",
    "for YEAR in tqdm_notebook(YEARS_TO_GET, desc='YEARS', position=0):\n",
    "    # Defining the JSON file to store results for the year\n",
    "    JSON_FILE = f'{FOLDER}tmdb_api_results_{YEAR}.json'\n",
    "    \n",
    "    # Check if the file exists\n",
    "    file_exists = os.path.isfile(JSON_FILE)\n",
    "    \n",
    "    # If it does not exist: create it\n",
    "    if not file_exists:  # Simplified condition\n",
    "        # Save an empty dict with just \"imdb_id\" to the new json file.\n",
    "        with open(JSON_FILE, 'w') as f:\n",
    "            json.dump([{'imdb_id': 0}], f)\n",
    "\n",
    "    # Saving the new year as the current df\n",
    "    df = basics.loc[basics['startYear'] == YEAR].copy()\n",
    "    # Saving movie ids to list\n",
    "    movie_ids = df['tconst'].copy()\n",
    "\n",
    "    # Load existing data from json into a dataframe called \"previous_df\"\n",
    "    previous_df = pd.read_json(JSON_FILE)\n",
    "\n",
    "    # Filter out any ids that are already in the JSON_FILE\n",
    "    movie_ids_to_get = movie_ids[~movie_ids.isin(previous_df['imdb_id'])]\n",
    "\n",
    "    # Get index and movie id from the list\n",
    "    # INNER Loop\n",
    "    for movie_id in tqdm_notebook(movie_ids_to_get,\n",
    "                                  desc=f'Movies from {YEAR}',\n",
    "                                  position=1,\n",
    "                                  leave=True):\n",
    "        try:\n",
    "            # Retrieve the data for the movie id\n",
    "            temp = get_movie_with_rating(movie_id)\n",
    "            # Append/extend results to the existing file using a pre-made function\n",
    "            write_json(temp, JSON_FILE)\n",
    "            # Short 20 ms sleep to prevent overwhelming the server\n",
    "            time.sleep(0.02)\n",
    "\n",
    "        except Exception as e:\n",
    "            errors.append([movie_id, e])\n",
    "\n",
    "    final_year_df = pd.read_json(JSON_FILE)\n",
    "    final_year_df.to_csv(f\"{FOLDER}final_tmdb_data_{YEAR}.csv.gz\", compression=\"gzip\", index=False)\n",
    "\n",
    "print(f\"- Total errors: {len(errors)}\")"
   ]
  }
 ],
 "metadata": {
  "kernelspec": {
   "display_name": "Python (dojo-env)",
   "language": "python",
   "name": "dojo-env"
  },
  "language_info": {
   "codemirror_mode": {
    "name": "ipython",
    "version": 3
   },
   "file_extension": ".py",
   "mimetype": "text/x-python",
   "name": "python",
   "nbconvert_exporter": "python",
   "pygments_lexer": "ipython3",
   "version": "3.10.10"
  },
  "widgets": {
   "application/vnd.jupyter.widget-state+json": {
    "state": {
     "0365a38bc1054ed9817eabd8a3aaee13": {
      "model_module": "@jupyter-widgets/controls",
      "model_module_version": "2.0.0",
      "model_name": "HBoxModel",
      "state": {
       "children": [
        "IPY_MODEL_0c6a4eaffc2e43a28c657b3c26d67100",
        "IPY_MODEL_782942c697ae4a45898dd87d1deeee55",
        "IPY_MODEL_4e77527f578648b99cd37e7d451a763e"
       ],
       "layout": "IPY_MODEL_8b4bd3f25f3946aa99855773ab88ab66"
      }
     },
     "0c6a4eaffc2e43a28c657b3c26d67100": {
      "model_module": "@jupyter-widgets/controls",
      "model_module_version": "2.0.0",
      "model_name": "HTMLModel",
      "state": {
       "layout": "IPY_MODEL_9b6d3bce3fd845c59f334382e51268a0",
       "style": "IPY_MODEL_b0fbf82c80c44951aeabf466c22828eb",
       "value": "Movies from 2001: 100%"
      }
     },
     "0cb7a806940d43f69b71dd2ecf076737": {
      "model_module": "@jupyter-widgets/controls",
      "model_module_version": "2.0.0",
      "model_name": "ProgressStyleModel",
      "state": {
       "description_width": ""
      }
     },
     "1b1a041ec5114d248c8cfcb5d57bc792": {
      "model_module": "@jupyter-widgets/controls",
      "model_module_version": "2.0.0",
      "model_name": "HTMLStyleModel",
      "state": {
       "description_width": "",
       "font_size": null,
       "text_color": null
      }
     },
     "1c02b4afa3da4818b8045c593d90f38e": {
      "model_module": "@jupyter-widgets/controls",
      "model_module_version": "2.0.0",
      "model_name": "HTMLModel",
      "state": {
       "layout": "IPY_MODEL_7a1dfdb48b744e2db33e592747577d55",
       "style": "IPY_MODEL_bf54b0c05ab3473abf2f95334e068742",
       "value": "YEARS: 100%"
      }
     },
     "1e6091a943b04301989b8427d6309e88": {
      "model_module": "@jupyter-widgets/controls",
      "model_module_version": "2.0.0",
      "model_name": "HTMLStyleModel",
      "state": {
       "description_width": "",
       "font_size": null,
       "text_color": null
      }
     },
     "1e9457bb0d2d4ffd9a932318561ef15a": {
      "model_module": "@jupyter-widgets/base",
      "model_module_version": "2.0.0",
      "model_name": "LayoutModel",
      "state": {}
     },
     "21eb9f8ad1d643298fbb6d386c5dda3d": {
      "model_module": "@jupyter-widgets/controls",
      "model_module_version": "2.0.0",
      "model_name": "HTMLStyleModel",
      "state": {
       "description_width": "",
       "font_size": null,
       "text_color": null
      }
     },
     "2c01d708d01b40a48fd2c0f12e47d0ec": {
      "model_module": "@jupyter-widgets/controls",
      "model_module_version": "2.0.0",
      "model_name": "HTMLStyleModel",
      "state": {
       "description_width": "",
       "font_size": null,
       "text_color": null
      }
     },
     "2f069bde5cb245cf87d594791f12c2be": {
      "model_module": "@jupyter-widgets/controls",
      "model_module_version": "2.0.0",
      "model_name": "ProgressStyleModel",
      "state": {
       "description_width": ""
      }
     },
     "34007cd33bd94dae8c5003e1090c635e": {
      "model_module": "@jupyter-widgets/controls",
      "model_module_version": "2.0.0",
      "model_name": "HBoxModel",
      "state": {
       "children": [
        "IPY_MODEL_9136f9715e5448508c39cb5b4d0f623a",
        "IPY_MODEL_42dd05f3e1de417298bd9fdb0bef1a71",
        "IPY_MODEL_e31a8c6af5ac4c8ca6694096e847a9b7"
       ],
       "layout": "IPY_MODEL_1e9457bb0d2d4ffd9a932318561ef15a"
      }
     },
     "37a79c9a5fcf4373a21de001cd4649b0": {
      "model_module": "@jupyter-widgets/base",
      "model_module_version": "2.0.0",
      "model_name": "LayoutModel",
      "state": {}
     },
     "4218934fb9994be88137285508ee366b": {
      "model_module": "@jupyter-widgets/base",
      "model_module_version": "2.0.0",
      "model_name": "LayoutModel",
      "state": {}
     },
     "42dd05f3e1de417298bd9fdb0bef1a71": {
      "model_module": "@jupyter-widgets/controls",
      "model_module_version": "2.0.0",
      "model_name": "FloatProgressModel",
      "state": {
       "bar_style": "success",
       "layout": "IPY_MODEL_cee35957dcdb41bba91d3e823b3c5f63",
       "max": 1584,
       "style": "IPY_MODEL_2f069bde5cb245cf87d594791f12c2be",
       "value": 1584
      }
     },
     "4e77527f578648b99cd37e7d451a763e": {
      "model_module": "@jupyter-widgets/controls",
      "model_module_version": "2.0.0",
      "model_name": "HTMLModel",
      "state": {
       "layout": "IPY_MODEL_f0ca22baadde455cbc81644806b3d714",
       "style": "IPY_MODEL_c7b1e52221074fb58cfd39d1f31f44ef",
       "value": " 1584/1584 [21:14&lt;00:00,  2.07it/s]"
      }
     },
     "5037d6943f734552a8203c7301faff46": {
      "model_module": "@jupyter-widgets/controls",
      "model_module_version": "2.0.0",
      "model_name": "HTMLStyleModel",
      "state": {
       "description_width": "",
       "font_size": null,
       "text_color": null
      }
     },
     "5147d705770c41fea167ae773021bb28": {
      "model_module": "@jupyter-widgets/controls",
      "model_module_version": "2.0.0",
      "model_name": "HBoxModel",
      "state": {
       "children": [
        "IPY_MODEL_b6072f9e72104e3e85576ec13e3faea5",
        "IPY_MODEL_e05b0a1c920a43aaa481fa987a52f35e",
        "IPY_MODEL_7fdd1b3cf51f4a968525a7f77c6bd07b"
       ],
       "layout": "IPY_MODEL_5d66c34654564d62a95bac60b59847c1"
      }
     },
     "5d66c34654564d62a95bac60b59847c1": {
      "model_module": "@jupyter-widgets/base",
      "model_module_version": "2.0.0",
      "model_name": "LayoutModel",
      "state": {}
     },
     "64082e838556485982daf2531cf4d2a7": {
      "model_module": "@jupyter-widgets/controls",
      "model_module_version": "2.0.0",
      "model_name": "ProgressStyleModel",
      "state": {
       "description_width": ""
      }
     },
     "66bea7b765284733b06cf75c85cd869b": {
      "model_module": "@jupyter-widgets/base",
      "model_module_version": "2.0.0",
      "model_name": "LayoutModel",
      "state": {}
     },
     "7431d1f3750141b89d401fdf28e6a723": {
      "model_module": "@jupyter-widgets/controls",
      "model_module_version": "2.0.0",
      "model_name": "HTMLModel",
      "state": {
       "layout": "IPY_MODEL_843a6f879b774997b78e87103d36589b",
       "style": "IPY_MODEL_1b1a041ec5114d248c8cfcb5d57bc792",
       "value": " 2/2 [43:15&lt;00:00, 1301.62s/it]"
      }
     },
     "761f166a42934ca889af4f72aaa5f7a5": {
      "model_module": "@jupyter-widgets/controls",
      "model_module_version": "2.0.0",
      "model_name": "HTMLModel",
      "state": {
       "layout": "IPY_MODEL_4218934fb9994be88137285508ee366b",
       "style": "IPY_MODEL_21eb9f8ad1d643298fbb6d386c5dda3d",
       "value": " 2/2 [00:00&lt;00:00, 29.63it/s]"
      }
     },
     "782942c697ae4a45898dd87d1deeee55": {
      "model_module": "@jupyter-widgets/controls",
      "model_module_version": "2.0.0",
      "model_name": "FloatProgressModel",
      "state": {
       "bar_style": "success",
       "layout": "IPY_MODEL_7fd2969fc83b424aa6647681d408939e",
       "max": 1584,
       "style": "IPY_MODEL_8a30f2c7a793426aaa34e931e747ccce",
       "value": 1584
      }
     },
     "7a1dfdb48b744e2db33e592747577d55": {
      "model_module": "@jupyter-widgets/base",
      "model_module_version": "2.0.0",
      "model_name": "LayoutModel",
      "state": {}
     },
     "7fd2969fc83b424aa6647681d408939e": {
      "model_module": "@jupyter-widgets/base",
      "model_module_version": "2.0.0",
      "model_name": "LayoutModel",
      "state": {}
     },
     "7fdd1b3cf51f4a968525a7f77c6bd07b": {
      "model_module": "@jupyter-widgets/controls",
      "model_module_version": "2.0.0",
      "model_name": "HTMLModel",
      "state": {
       "layout": "IPY_MODEL_fc0c3e6594ad451689218eb8aae53fe0",
       "style": "IPY_MODEL_f578482f19e54e1289e1c44c2391ba1d",
       "value": " 283/283 [01:45&lt;00:00,  2.96it/s]"
      }
     },
     "843a6f879b774997b78e87103d36589b": {
      "model_module": "@jupyter-widgets/base",
      "model_module_version": "2.0.0",
      "model_name": "LayoutModel",
      "state": {}
     },
     "8a2dc39248a145c18f46eff50fd22484": {
      "model_module": "@jupyter-widgets/base",
      "model_module_version": "2.0.0",
      "model_name": "LayoutModel",
      "state": {}
     },
     "8a30f2c7a793426aaa34e931e747ccce": {
      "model_module": "@jupyter-widgets/controls",
      "model_module_version": "2.0.0",
      "model_name": "ProgressStyleModel",
      "state": {
       "description_width": ""
      }
     },
     "8b2ce8c476d04d22b031e6a3753a17dd": {
      "model_module": "@jupyter-widgets/base",
      "model_module_version": "2.0.0",
      "model_name": "LayoutModel",
      "state": {}
     },
     "8b4bd3f25f3946aa99855773ab88ab66": {
      "model_module": "@jupyter-widgets/base",
      "model_module_version": "2.0.0",
      "model_name": "LayoutModel",
      "state": {}
     },
     "9136f9715e5448508c39cb5b4d0f623a": {
      "model_module": "@jupyter-widgets/controls",
      "model_module_version": "2.0.0",
      "model_name": "HTMLModel",
      "state": {
       "layout": "IPY_MODEL_8b2ce8c476d04d22b031e6a3753a17dd",
       "style": "IPY_MODEL_98d7005e030e460c81e79205ddcce079",
       "value": "Movies from 2002: 100%"
      }
     },
     "957742e647ce4c2a82094ee83c9c383c": {
      "model_module": "@jupyter-widgets/base",
      "model_module_version": "2.0.0",
      "model_name": "LayoutModel",
      "state": {}
     },
     "960b9f35c464486ca1494f96b0879117": {
      "model_module": "@jupyter-widgets/base",
      "model_module_version": "2.0.0",
      "model_name": "LayoutModel",
      "state": {}
     },
     "98d7005e030e460c81e79205ddcce079": {
      "model_module": "@jupyter-widgets/controls",
      "model_module_version": "2.0.0",
      "model_name": "HTMLStyleModel",
      "state": {
       "description_width": "",
       "font_size": null,
       "text_color": null
      }
     },
     "9b6d3bce3fd845c59f334382e51268a0": {
      "model_module": "@jupyter-widgets/base",
      "model_module_version": "2.0.0",
      "model_name": "LayoutModel",
      "state": {}
     },
     "a2a33b5256744c818710f0f0fac59b39": {
      "model_module": "@jupyter-widgets/controls",
      "model_module_version": "2.0.0",
      "model_name": "HBoxModel",
      "state": {
       "children": [
        "IPY_MODEL_eb8ce40148c24c9e96380bb004b7cc54",
        "IPY_MODEL_e3e380c2efca4f0ea0f6e0a59fdf8087",
        "IPY_MODEL_7431d1f3750141b89d401fdf28e6a723"
       ],
       "layout": "IPY_MODEL_ae7f4eb59b634143bb7c3f33114828e0"
      }
     },
     "aa2398b3626c41e4befa7f07b6aefd58": {
      "model_module": "@jupyter-widgets/controls",
      "model_module_version": "2.0.0",
      "model_name": "FloatProgressModel",
      "state": {
       "bar_style": "success",
       "layout": "IPY_MODEL_957742e647ce4c2a82094ee83c9c383c",
       "max": 2,
       "style": "IPY_MODEL_0cb7a806940d43f69b71dd2ecf076737",
       "value": 2
      }
     },
     "ae7f4eb59b634143bb7c3f33114828e0": {
      "model_module": "@jupyter-widgets/base",
      "model_module_version": "2.0.0",
      "model_name": "LayoutModel",
      "state": {}
     },
     "b0fbf82c80c44951aeabf466c22828eb": {
      "model_module": "@jupyter-widgets/controls",
      "model_module_version": "2.0.0",
      "model_name": "HTMLStyleModel",
      "state": {
       "description_width": "",
       "font_size": null,
       "text_color": null
      }
     },
     "b6072f9e72104e3e85576ec13e3faea5": {
      "model_module": "@jupyter-widgets/controls",
      "model_module_version": "2.0.0",
      "model_name": "HTMLModel",
      "state": {
       "layout": "IPY_MODEL_37a79c9a5fcf4373a21de001cd4649b0",
       "style": "IPY_MODEL_1e6091a943b04301989b8427d6309e88",
       "value": "Movies from 2002: 100%"
      }
     },
     "bf54b0c05ab3473abf2f95334e068742": {
      "model_module": "@jupyter-widgets/controls",
      "model_module_version": "2.0.0",
      "model_name": "HTMLStyleModel",
      "state": {
       "description_width": "",
       "font_size": null,
       "text_color": null
      }
     },
     "c7b1e52221074fb58cfd39d1f31f44ef": {
      "model_module": "@jupyter-widgets/controls",
      "model_module_version": "2.0.0",
      "model_name": "HTMLStyleModel",
      "state": {
       "description_width": "",
       "font_size": null,
       "text_color": null
      }
     },
     "cee35957dcdb41bba91d3e823b3c5f63": {
      "model_module": "@jupyter-widgets/base",
      "model_module_version": "2.0.0",
      "model_name": "LayoutModel",
      "state": {}
     },
     "d9b74fe5974941769dd2fc7d7bbcb068": {
      "model_module": "@jupyter-widgets/base",
      "model_module_version": "2.0.0",
      "model_name": "LayoutModel",
      "state": {}
     },
     "dd9ee01b37b94a0280097a46f56a9a0a": {
      "model_module": "@jupyter-widgets/controls",
      "model_module_version": "2.0.0",
      "model_name": "ProgressStyleModel",
      "state": {
       "description_width": ""
      }
     },
     "de1ad5de11f9463fb3f79bbfc7b539dd": {
      "model_module": "@jupyter-widgets/controls",
      "model_module_version": "2.0.0",
      "model_name": "HBoxModel",
      "state": {
       "children": [
        "IPY_MODEL_1c02b4afa3da4818b8045c593d90f38e",
        "IPY_MODEL_aa2398b3626c41e4befa7f07b6aefd58",
        "IPY_MODEL_761f166a42934ca889af4f72aaa5f7a5"
       ],
       "layout": "IPY_MODEL_66bea7b765284733b06cf75c85cd869b"
      }
     },
     "e05b0a1c920a43aaa481fa987a52f35e": {
      "model_module": "@jupyter-widgets/controls",
      "model_module_version": "2.0.0",
      "model_name": "FloatProgressModel",
      "state": {
       "bar_style": "success",
       "layout": "IPY_MODEL_d9b74fe5974941769dd2fc7d7bbcb068",
       "max": 283,
       "style": "IPY_MODEL_dd9ee01b37b94a0280097a46f56a9a0a",
       "value": 283
      }
     },
     "e31a8c6af5ac4c8ca6694096e847a9b7": {
      "model_module": "@jupyter-widgets/controls",
      "model_module_version": "2.0.0",
      "model_name": "HTMLModel",
      "state": {
       "layout": "IPY_MODEL_960b9f35c464486ca1494f96b0879117",
       "style": "IPY_MODEL_2c01d708d01b40a48fd2c0f12e47d0ec",
       "value": " 1584/1584 [22:00&lt;00:00,  2.26it/s]"
      }
     },
     "e3e380c2efca4f0ea0f6e0a59fdf8087": {
      "model_module": "@jupyter-widgets/controls",
      "model_module_version": "2.0.0",
      "model_name": "FloatProgressModel",
      "state": {
       "bar_style": "success",
       "layout": "IPY_MODEL_8a2dc39248a145c18f46eff50fd22484",
       "max": 2,
       "style": "IPY_MODEL_64082e838556485982daf2531cf4d2a7",
       "value": 2
      }
     },
     "eb8ce40148c24c9e96380bb004b7cc54": {
      "model_module": "@jupyter-widgets/controls",
      "model_module_version": "2.0.0",
      "model_name": "HTMLModel",
      "state": {
       "layout": "IPY_MODEL_fd371e8ade164108be8743e173fcc582",
       "style": "IPY_MODEL_5037d6943f734552a8203c7301faff46",
       "value": "YEARS: 100%"
      }
     },
     "f0ca22baadde455cbc81644806b3d714": {
      "model_module": "@jupyter-widgets/base",
      "model_module_version": "2.0.0",
      "model_name": "LayoutModel",
      "state": {}
     },
     "f578482f19e54e1289e1c44c2391ba1d": {
      "model_module": "@jupyter-widgets/controls",
      "model_module_version": "2.0.0",
      "model_name": "HTMLStyleModel",
      "state": {
       "description_width": "",
       "font_size": null,
       "text_color": null
      }
     },
     "fc0c3e6594ad451689218eb8aae53fe0": {
      "model_module": "@jupyter-widgets/base",
      "model_module_version": "2.0.0",
      "model_name": "LayoutModel",
      "state": {}
     },
     "fd371e8ade164108be8743e173fcc582": {
      "model_module": "@jupyter-widgets/base",
      "model_module_version": "2.0.0",
      "model_name": "LayoutModel",
      "state": {}
     }
    },
    "version_major": 2,
    "version_minor": 0
   }
  }
 },
 "nbformat": 4,
 "nbformat_minor": 5
}
